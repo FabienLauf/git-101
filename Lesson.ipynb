{
  "metadata": {
    "kernelspec": {
      "name": "python36",
      "display_name": "Python 3.6",
      "language": "python"
    },
    "language_info": {
      "mimetype": "text/x-python",
      "nbconvert_exporter": "python",
      "name": "python",
      "pygments_lexer": "ipython3",
      "version": "3.6.6",
      "file_extension": ".py",
      "codemirror_mode": {
        "version": 3,
        "name": "ipython"
      }
    }
  },
  "nbformat_minor": 2,
  "nbformat": 4,
  "cells": [
    {
      "cell_type": "markdown",
      "source": "# How Source Code Management works\n\nIn order to use a SCM software, you need to know what local and remote repositories, version control, and branching are.\n\n## Local and Remote Repositories\n\n![Remote Repositories](img/remoteRepo.png \"Remote Repositories\")\n\n## Version Control\n\n![Disctributed Version Control](img/dvcs.png \"Disctributed Version Control\")\n\n## Branching\n\n![Branching](img/branching.png \"Branching\")\n\n![Branching](img/branching2.png \"Branching\")",
      "metadata": {}
    },
    {
      "cell_type": "markdown",
      "source": "# Git\n\n> \"Git is a free and open source distributed version control system designed to handle everything from small to very large projects with speed and efficiency.\"\n\n> \"Git is a version control system for tracking changes in computer files and coordinating work on those files among multiple people. It is primarily used for source code management (**SCM**) in software development, but it can be used to keep track of changes in any set of files.\"\n\nGit is the actual software reponsible for tracking changes and managing collaboration between team mates. It can be used as a client and/or a server.\n\nIn our case, we will focused on the client side, since the server side will be handled by GitHub.\n\nThe default user interface is a command-line interface.\n\nE.g. a set of command to initialise a repository and commit a change.\n\n```bash\ngit init\ngit add README.md\ngit commit\ngit remote add origin git@github.com/cdowm/thats.git\ngit push -u origin master\n```\n\nGit must not be mistaken with GitHub, we will see their differences in the next section.",
      "metadata": {}
    },
    {
      "cell_type": "markdown",
      "source": "# GitHub\n\n[GitHub](https://github.com) is a __web-based hosting service__ for __version control__ using __Git__.\n\nIt hosts millions of remote repositories. Provides the same functionalities as Git plus some extra like access control, statistics, or code viewer.",
      "metadata": {}
    },
    {
      "cell_type": "markdown",
      "source": "# How to collaborate\n\n![Git](img/Git.png \"Git\")\n\n## Start a new project from scratch\n\n1. Go to [GitHub](https://github.com)\n2. Click on \"New repository\" either on the left colum on the home page (img 1) or on the + sign next to your avatar (img 2)\n3. Fill up the form and click on create repository.\n4. On your repository page, click on \"Clone or download\" (img 3) and copy the URL.\n5. Clone the repository on your local workspace (computer)\n\n1![img 1](img/new.png \"img 1\") 2![img 2](img/new2.png \"img 2\") 3![img 3](img/clone.png \"img 3\")\n\n## Contribute to an existing project\n\n1. Go to the project page (e.g. https://github.com/FabienLauf/git-101 )\n2. Repeat steps 4 and 5 from above\n",
      "metadata": {}
    },
    {
      "cell_type": "markdown",
      "source": "# How to Use Git\n\nDo I really need to install git on my computer? (I don't know how to!)\n\nDo I need to learn all the git commands? (I hate terminals, they're scary!)\n\nYes you can, but this not the easiest and most optimal way. My reco is to use a software called SourceTree.\n\n## SourceTree\n\nSourceTree is a graphic interface which simplifies the usage of Git and permits to manage multiple project at once.\n\nYou can download it [here](https://www.sourcetreeapp.com/).",
      "metadata": {}
    },
    {
      "cell_type": "markdown",
      "source": "## Contribution process\n\n### Clone the Master branch\n\nFirst, you need a create a local repository on your computer which will be a copy (clone) of the remote repository.\n\n 1. Click on \"+ New Repository\" -> \"Clone from URL\"\n 2. Copy-paste the URL of the GitHub repository and click \"Clone\"\n\n![Clone from URL](img/cloneSourceTree.png \"Clone from URL\") ![Local repo name](img/cloneSourceTree2.png \"Local repo name\")\n\n**Good practices**:\n - Create a \"workspace\" folder on your computer where you will put all your cloned repositories.\n - NEVER rename the repository folder. It's just simpler like that and won't create any confusion.\n - That's why, when creating a new repository from scratch, you must make sure you choose a meaningful name with no typos!\n \n**_NEVER EVER work on the master branch. The master branch is for read only!_**\n\nYou need your own **branch** to work.\n\nHowever, you can start working on a file and create or switch to another branch afterwards, but never commit or push a change on the master branch directly.\n\n### Create your own branch\n\nClick on the \"Branch\" icon.\n\n\"Current Branch\": the name of branch your are starting working from. 99% of the time, must be \"Master\". By default it's the branch you are currently working on (appears in bold on the branch list on the left side)\n\n\"New Branch\": Type here the name of your new branch. Always give a meaningful name so anybody can understand what the branch is for just by reading the name.\n\n**Good practices**\n - Never start with a number or a capital letter.\n - Separate words wish dashes - (no space, no underscore)\n - Add the ticket number at the end if any. Do not use just the ticket number as a full name, add the title if needed. (1)\n - You can add grouping names add the beginning of the name separated by a slash, in order to group multiple branches by theme or nature. It will create a folder hierearchy in the branch list on the left side. (2)\n\n(1) ![New Branch](img/newBranch.jpg \"New Branch\") (2) ![Grouped Branches](img/groupedBranches.jpg \"Grouped Branches\")\n\n### Start working\n\nDo whatever you want. Update, create, or delete files, Git will track everything and SourceTree will show you the state of each file and the details of the changes.\n\n![Main window](img/mainWindow.jpg \"Main window\")\n\n - (1) This is the box containing the files you want to commit. You can drag and drop the files from (2) to (1) or tick their checkbox in (2)\n - (2) This is the box containing all the files that you have updated, created or deleted. As long as they stay in the \"Unstaged\" state, they won't be included in your commit.\n - (3) This is the box showing the differences between the last commited version and your local version of the selected file\n\n### Commit your changes and Push your branch\n\nWhen you have verified all the changes and moved all the files you want to commit to the \"Staged files\" window, you can write a commit message in the box at the bottom of the screen and click the \"Commit\" button when you're done.\n\n![Commit message](img/commitMessage.png \"Commit message\")\n\nAlways leave a detailed and meaninfull commit message. Your team mates must be able to understand the changes that are included in this commit without checking the files. Messages like \"Update file XX\", \"Add new content\" are prohibited.\n\nFor now, your commits are only in your local repository (your computer). For your team mates to be able to access it, you need to \"push\" your commits to the remote repository (GitHub).\n\nTo Push your changes to the remote repository, you have two options:\n\n#### 1. Commit and Push at the same time. \n\nIf you need just one commit for your change, then, you can push it at the same time you create the commit.\n\nTo do this, you just need to tick the check-box below the commit message box. When you will click \"Commit\", all your local branch will be pushed to GitHub.\n\n#### 2. Push multiple commits at once.\n\nIf you'd like to push your branch later in time, or if you want to make other commits before pushing, you can just commit without ticking the \"Push\" check-box.\n\nWhen you are ready to push:\n 1. Make sure your branch is in bold in the branch list on the left side\n 2. Click on the \"Push\" icon\n 3. Verify that the correct branch you want to push is ticked\n 4. Click OK\n\n![Push branch](img/push.jpg \"Push branch\")\n\n### Create a Pull Request\n\nTime to go back to your remote repository page on GitHub.\n\nAfter having just pushed a branch, GitHub will ask you if you want to create a Pull Request (PR). If it's the case, just click \"Compare and Pull Request\".\n\n![Fresh new PR](img/PR.png \"Fresh new PR\")\n\nA new page will be shown in which you can add a description and check the files included in the PR.\n\nIf you want to create your PR later:\n 1. Go to the GitHub repository page.\n 2. Click on the \"New Pull Request\" button. \n 3. Select the master branch as base and your branch as compare.\n 4. Click on the \"Create Pull Request\" button.\n\n![New PR](img/PR2.png \"New PR\")\n\n**Good practices**:\n - Always double check the files included in your PR. It's very frequent to forget to commit a change or a file.\n - Always add a detailed description, this is what your team mates will read first. E.g.\n     - Explain why you create this PR\n     - Explain what are the changes that you made\n     - Add some links to some page or website you think can help to understand the PR\n     - You can use [Markdown](https://www.markdownguide.org/cheat-sheet) code to \"beautify\" your description.\n\n### Review a Pull Request\n\nWhen you PR is created, you can send the link to one of your team mate for review.\n\nAll the PR for the project can be viewed by clicking on the \"Pull Requests\" tab on the repository homepage.\n\nYour team mate can look at the \"Files\" tab and comments anywhere on the code by clicking on a line.\n\nWhen he is done writting his comment, he can click on \"Start a Review\"\n\nWhen he is done reviewing and has added all the comments he had, he can complete the review by clicking on the \"Review Changes\" button on the top-right corner. There, he has three options:\n 1. **Comment**: You don't feel like you are the one who should merge or just don't have the rights for it, but still you have comments to give. \n 2. **Approve**: No changes are needed, the PR can be merged.\n 3. **Request changes**: The reviewer is giving a no-go for the PR, you need to fix your change based on his comments.\n\n![Review](img/review.png \"Review\")\n\n**Good practices**:\n - NEVER EVER merge your own PR! Even if you think there's nothing to review, ask someone else to have a quick look and just click on the merge button\n\n### Merge a Pull Request\n\nBack to the \"Conversation\" tab of the PR page, if the reviewer thinks everything is good to be added to the Master branch, he can click on the \"Merge pull request\" button.\n\n![Merge](img/merge.png \"Merge\")\n\nThe changes are then merged to the Master branch, the PR is moved to the \"Closed\" state and the remote branch is deleted. \n",
      "metadata": {}
    },
    {
      "cell_type": "markdown",
      "source": "# Advanced concepts\n\nThat's it for the default usage of Git and GitHub. It should suit 90% of your work. If you'd like a training for advanced concepts, let me know and we will plan it.\n\n## Multiple team mates working on the same branch\n\nFor this, you need to checkout an already existing branch.\n\n## Pull the content of another branch into mine\n\nLet's say you created your new branch on a Monday and you're done with your work on Friday. But in between, some PR have ben merged and now your code base is behing he current master verison.\nTherefore, you need to make sure your changes:\n - Don't conflict with the changes merged during the week\n - Still work with the new master version\n\nIn order to do this, you need to **Pull** the current master version to your branch.\n\n## Rollback a commit / Rebase a branch\n\nWhat should you do if you want to revert a change?\n",
      "metadata": {}
    },
    {
      "cell_type": "markdown",
      "source": "Thank you!",
      "metadata": {}
    }
  ]
}