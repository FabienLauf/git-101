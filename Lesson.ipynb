{
  "metadata": {
    "kernelspec": {
      "name": "python36",
      "display_name": "Python 3.6",
      "language": "python"
    },
    "language_info": {
      "mimetype": "text/x-python",
      "nbconvert_exporter": "python",
      "name": "python",
      "pygments_lexer": "ipython3",
      "version": "3.6.6",
      "file_extension": ".py",
      "codemirror_mode": {
        "version": 3,
        "name": "ipython"
      }
    }
  },
  "nbformat_minor": 2,
  "nbformat": 4,
  "cells": [
    {
      "cell_type": "markdown",
      "source": "# How Source Code Management works\n\nIn order to use a SCM software, you need to know what local and remote repositories, version control, and branching are.\n\n## Local and Remote Repositories\n\n![Remote Repositories](remoteRepo.png \"Remote Repositories\")\n\n## Version Control\n\n![Disctributed Version Control](dvcs.png \"Disctributed Version Control\")\n\n## Branching\n\n![Branching](branching.png \"Branching\")\n\n![Branching](branching2.png \"Branching\")",
      "metadata": {}
    },
    {
      "cell_type": "markdown",
      "source": "# Git\n\n> \"Git is a free and open source distributed version control system designed to handle everything from small to very large projects with speed and efficiency.\"\n\n> \"Git is a version control system for tracking changes in computer files and coordinating work on those files among multiple people. It is primarily used for source code management (**SCM**) in software development, but it can be used to keep track of changes in any set of files.\"\n\nGit is the actual software reponsible for tracking changes and managing collaboration between team mates. It can be used as a client and/or a server.\n\nIn our case, we will focused on the client side, since the server side will be handled by GitHub.\n\nThe default user interface is a command-line interface.\n\nE.g. a set of command to initialise a repository and commit a change.\n\n```bash\ngit init\ngit add README.md\ngit commit\ngit remote add origin git@github.com/cdowm/thats.git\ngit push -u origin master\n```\n\nGit must not be mistaken with GitHub, we will see their differences in the next section.",
      "metadata": {}
    },
    {
      "cell_type": "markdown",
      "source": "# GitHub\n\n[GitHub](https://github.com) is a __web-based hosting service__ for __version control__ using __Git__.\n\nIt hosts millions of remote repositories. Provides the same functionalities as Git plus some extra like access control, statistics, or code viewer.",
      "metadata": {}
    },
    {
      "cell_type": "markdown",
      "source": "# How to collaborate\n\n![Git](Git.png \"Git\")\n\n## Start a new project from scratch\n\n1. Go to [GitHub](https://github.com)\n2. Click on \"New repository\" either on the left colum on the home page (img 1) or on the + sign next to your avatar (img 2)\n3. Fill up the form and click on create repository.\n4. On your repository page, click on \"Clone or download\" (img 3) and copy the URL.\n5. Clone the repository on your local workspace (computer)\n\n1![img 1](new.png \"img 1\") 2![img 2](new2.png \"img 2\") 3![img 3](clone.png \"img 3\")\n\n## Contribute to an existing project\n\n1. Go to the project page (e.g. https://github.com/FabienLauf/git-101 )\n2. Repeat steps 4 and 5 from above\n",
      "metadata": {}
    },
    {
      "cell_type": "markdown",
      "source": "# How to Use Git\n\nDo I really need to install git on my computer? (I don't know how to!)\n\nDo I need to learn all the git commands? (I hate terminals, they're scary!)\n\nYes you can, but this not the easiest and most optimal way. My reco is to use a software called SourceTree\n\n## SourceTree\n\nSourceTree is a graphic interface which simplifies the usage of Git and permits to manage multiple project at once.\n\nYou can download it [here](https://www.sourcetreeapp.com/).",
      "metadata": {}
    },
    {
      "cell_type": "markdown",
      "source": "## Contribution process\n\n### Clone the Master branch\n\nClick on \"+ New Repository\" -> \"Clone from URL\"\n\nCopy-paste the URL of the GitHub repository and click \"Clone\"\n\n**Good practices**:\n - Create a \"workspace\" folder on your computer where you will put all your cloned repositories.\n - NEVER rename the repository folder. It's just simpler like that and won't create any confusion.\n - So, when creating a new repository from scratch, make sure you choose a meaningful name with no typos!\n \n**_NEVER EVER work on the master branch. The master branch is for read only!_**\n\nYou can start working on a file and create or switch to another branch afterwards, but never commit or push a change on the master branch directly.\n\n### Create your own branch\n\nClick on the \"Branch\" icon.\n\n\"Current Branch\": the name of branch your are starting working from. 99% of the time, must be \"Master\". By default it's the branch you are currently working on (appears in bold on the branch list on the left side)\n\n\"New Branch\": Type here the name of your new branch. Always give a meaningful name so anybody can understand what the branch is for just by reading the name.\n\n\n**Good practices**\n - Never start with a number or a capital letter.\n - Separate words wish dashes - (no space, no underscore)\n - Add the ticket number at the end if any. Do not use just the ticket number as a full name, add the title if needed.\n - You can add grouping names add the beginning of the name separated by a slash, in order to group multiple branches by theme or nature. It will create a folder hierearchy in the branch list on the left side.\n\n### Commit your changes and Push your branch\n\n\n\n### Create a Pull Request\n\n\n\n### Merge a Pull Request",
      "metadata": {}
    },
    {
      "cell_type": "code",
      "source": "",
      "metadata": {},
      "execution_count": null,
      "outputs": []
    }
  ]
}